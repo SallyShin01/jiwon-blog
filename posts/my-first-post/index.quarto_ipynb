{
  "cells": [
    {
      "cell_type": "markdown",
      "metadata": {},
      "source": [
        "---\n",
        "title: \"나의 첫 블로그 포스트\"\n",
        "author: \"Jiwon Shin\"\n",
        "date : \"2025-03-07\"\n",
        "categories: [python, pandas, numpy]\n",
        "image: \"\"\n",
        "---\n",
        "\n",
        "\n",
        "## 파이썬 데이터 분석\n",
        "\n",
        "### 넘파이\n",
        "\n",
        "넘파이 패키지를 불러옵시다!\n"
      ],
      "id": "2fd7df26"
    },
    {
      "cell_type": "code",
      "metadata": {},
      "source": [
        "import numpy as np\n",
        "\n",
        "a = np.array([3,2,15])\n",
        "a"
      ],
      "id": "36bbfd42",
      "execution_count": null,
      "outputs": []
    },
    {
      "cell_type": "markdown",
      "metadata": {},
      "source": [
        "#### 판다스"
      ],
      "id": "4f717143"
    },
    {
      "cell_type": "code",
      "metadata": {},
      "source": [
        "import pandas as pd\n"
      ],
      "id": "541975cf",
      "execution_count": null,
      "outputs": []
    }
  ],
  "metadata": {
    "kernelspec": {
      "display_name": "Python 3",
      "language": "python",
      "name": "python3"
    }
  },
  "nbformat": 4,
  "nbformat_minor": 5
}