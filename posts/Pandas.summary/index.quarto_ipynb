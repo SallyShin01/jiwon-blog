{
  "cells": [
    {
      "cell_type": "markdown",
      "metadata": {},
      "source": [
        "---\n",
        "title: \"Pandas 개념정리\"\n",
        "date : \"2025-03-10\"\n",
        "author: \"Jiwon Shin\"\n",
        "categories: [news, code]\n",
        "image: \"Pandas-logo.webp\"\n",
        "---\n",
        "\n",
        "\n",
        "## 판다스 활용하기\n",
        "\n",
        " Pandas 개념정리\n",
        "### 데이터 프레임(Data Frame)이란?\n",
        "각 열에 있는 데이터 타입이 달라도 괜찮다!  "
      ],
      "id": "62a71c41"
    },
    {
      "cell_type": "code",
      "metadata": {},
      "source": [
        "import pandas as pd\n",
        "\n",
        "# 데이터 프레임 생성\n",
        "df = pd.DataFrame({\n",
        "    'col-str': ['one', 'two', 'three', 'four','five'],\n",
        "    'col-num': [6, 7, 8, 9, 10]\n",
        "})\n",
        "df\n",
        "print(df)\n",
        "\n",
        "print(df['col-str'].dtype)  # object\n",
        "print(df['col-num'].dtype)  # integer"
      ],
      "id": "8fe063d4",
      "execution_count": null,
      "outputs": []
    },
    {
      "cell_type": "markdown",
      "metadata": {},
      "source": [
        "### 시리즈(series)란 무엇일까?\n",
        "1차원 구조를 지님.  \n",
        "그렇기 때문에 하나의 데이터 타입을 가지고 있다!"
      ],
      "id": "9071f6a6"
    },
    {
      "cell_type": "code",
      "metadata": {},
      "source": [
        "data = [10, 20, 30]\n",
        "df_s = pd.Series(data, index=['one', 'two', 'three'])\n",
        "print(df_s)\n",
        "df_s.shape\n",
        "\n",
        "# 시리즈는 columns을 통해 열 이름을 확인할 수 없음\n",
        "# df_s.columns \n",
        "\n",
        "# name을 통해 시리즈 이름을 확인할 수 있음\n",
        "df_s.name"
      ],
      "id": "70f0dbc1",
      "execution_count": null,
      "outputs": []
    },
    {
      "cell_type": "markdown",
      "metadata": {},
      "source": [
        "#### 데이터 프레임 채우면서 만들기"
      ],
      "id": "f15f0431"
    },
    {
      "cell_type": "code",
      "metadata": {},
      "source": [
        "my_df = pd.DataFrame({\n",
        "    'name': ['issac', 'bomi'],\n",
        "    'birthmonth': [5, 4]\n",
        "})\n",
        "print(my_df)"
      ],
      "id": "d901ef70",
      "execution_count": null,
      "outputs": []
    },
    {
      "cell_type": "code",
      "metadata": {},
      "source": [
        "df = pd.DataFrame({\n",
        "    'studnet_id': [1,2,3],\n",
        "    'gender': ['F', 'M', 'F'],\n",
        "    'midterm': [38,42,53]\n",
        "}, index = [\"first\", \"second\", \"third\"])\n",
        "print(df)\n",
        "\n",
        "df['gender'] # gender 행 전체를 가져옴."
      ],
      "id": "b5ba85b9",
      "execution_count": null,
      "outputs": []
    },
    {
      "cell_type": "code",
      "metadata": {},
      "source": [
        "my_s = pd.Series(['F', 'M', 'F'],\n",
        "                  name = \"gender\", index = [\"first\", \"second\", \"third\"])\n",
        "my_s\n",
        "pd.DataFrame(my_s)"
      ],
      "id": "bc6bdb38",
      "execution_count": null,
      "outputs": []
    },
    {
      "cell_type": "markdown",
      "metadata": {},
      "source": [
        "#### csv 파일로 읽어오기"
      ],
      "id": "5a570480"
    },
    {
      "cell_type": "code",
      "metadata": {},
      "source": [
        "url = \"https://bit.ly/examscore-csv\"\n",
        "mydata = pd.read_csv(url)\n",
        "mydata.head(10) # 위에서 10개의 열만 가져옴\n",
        "\n",
        "mydata['gender'].head()\n",
        "mydata[['gender','student_id']].head()"
      ],
      "id": "ee792e67",
      "execution_count": null,
      "outputs": []
    },
    {
      "cell_type": "code",
      "metadata": {},
      "source": [
        "import numpy as np \n",
        "# mydata\n",
        "# mydata[mydata['gender'] == \"F\", :]  # 에러발생\n",
        "mydata.loc[mydata['gender'] == \"F\", :]  #작동\n",
        "mydata[mydata['gender'] == \"F\"]   #작동\n",
        "check_f = np.array(mydata['gender'] == \"F\") # 작동\n",
        "mydata.iloc[check_f, :]\n",
        "\n",
        "mydata[mydata['midterm'] <= 15]"
      ],
      "id": "b793d57e",
      "execution_count": null,
      "outputs": []
    },
    {
      "cell_type": "code",
      "metadata": {},
      "source": [
        "# 중간고사 점수 45 - 60점 사이 학생은 몇명인가요?\n",
        "check_score = (mydata['midterm'] >= 45) & (mydata['midterm'] <= 60)\n",
        "mydata[check_score].shape[0]"
      ],
      "id": "8f34ebb4",
      "execution_count": null,
      "outputs": []
    },
    {
      "cell_type": "markdown",
      "metadata": {},
      "source": [
        "### 데이터 프레임 인덱싱\n",
        "데이터 프레임 내의 특정 데이터를 효율적으로 필터링 및 조작할 수 있다.  \n",
        "\n",
        "#### iloc[]를 이용한 필터링"
      ],
      "id": "bb0e6efd"
    },
    {
      "cell_type": "code",
      "metadata": {},
      "source": [
        "# 대괄호 안에 숫자를 써서 인덱스 불가\n",
        "# .iloc 함수를 사용하면 가능!\n",
        "# mydata[1:4,0]  불가능!\n",
        "mydata.iloc[0, 0] # 1행 1열에 있는 숫자 -> 1!\n",
        "mydata.iloc[1:4,1:3]"
      ],
      "id": "f77c0e25",
      "execution_count": null,
      "outputs": []
    },
    {
      "cell_type": "code",
      "metadata": {},
      "source": [
        "# .iloc 함수는 인덱스가 문자여도 잘 작동\n",
        "mydata2 = mydata.iloc[:4,:3]\n",
        "mydata2.index\n",
        "mydata2.index = [\"first\", \"second\", \"third\", \"fourth\"]\n",
        "mydata2\n",
        "mydata2.iloc[0:2,0]\n",
        "\n",
        "# .iloc 함수는 : 도 잘 작동함!\n",
        "mydata2.iloc[:,0]"
      ],
      "id": "42b68453",
      "execution_count": null,
      "outputs": []
    },
    {
      "cell_type": "markdown",
      "metadata": {},
      "source": [
        "리스트 형태로 필터링할 경우 DataFrame으로 변경됨"
      ],
      "id": "e2ea17b4"
    },
    {
      "cell_type": "code",
      "metadata": {},
      "source": [
        "# .iloc 함수는 결과값의 타입이 변동함.\n",
        "mydata2.iloc[0, 1] # 결과 : 값 하나\n",
        "mydata2.iloc[0:2, 1] # 결과 : 시리즈\n",
        "mydata2.iloc[2, 0:2] # 결과 : 시리즈\n",
        "mydata2.iloc[0:3, 0:2]  #결과 :데이터프레임\n",
        "result1 = mydata2.iloc[:,0] # 결과 : 시리즈\n",
        "result2 = mydata2.iloc[:, [0]] # 결과 : 데이터프레임\n",
        "result1[1]                           \n",
        "result2.iloc[1,0]\n",
        "\n",
        "# DataFrame을 Series로 변경하기 위해서 squeeze()활용!\n",
        "mydata2.iloc[:, [0]].squeeze() # 결과: 시리즈"
      ],
      "id": "9ca7e62c",
      "execution_count": null,
      "outputs": []
    },
    {
      "cell_type": "markdown",
      "metadata": {},
      "source": [
        "#### loc()를 이용한 필터링"
      ],
      "id": "599dda8b"
    },
    {
      "cell_type": "code",
      "metadata": {},
      "source": [
        "# 라벨을 이용한 인덱싱 loc[] - p20\n",
        "mydata.loc[mydata['midterm'] <= 15]\n",
        "mydata.loc[mydata['midterm'] <= 15, \"student_id\"]\n",
        "mydata.loc[mydata['midterm'] <= 15, [\"student_id\"]]\n",
        "mydata.loc[mydata['midterm'] <= 15, [\"student_id\", \"gender\"]]\n",
        "\n",
        "mydata['midterm'].iloc[0] # 0번째 값이 무엇이 들어있는지 확인"
      ],
      "id": "244a717d",
      "execution_count": null,
      "outputs": []
    },
    {
      "cell_type": "markdown",
      "metadata": {},
      "source": [
        "#### isin[] 활용하기\n",
        "특정 값이 데이터 프레임 내에 존재하는지 확인하고,  \n",
        "조건을 만족하는 행을 필터링하는데 사용"
      ],
      "id": "b170c2d8"
    },
    {
      "cell_type": "code",
      "metadata": {},
      "source": [
        "# 28,38,52 중 값이 있는지 TRUE,FALSE 값을 반환\n",
        "mydata['midterm'].isin([28, 38, 52]) \n",
        "# ~를 붙이면 특정값을 제외함(앞줄이랑 반대)\n",
        "~mydata['midterm'].isin([28, 38, 52]) \n",
        "mydata.loc[mydata['midterm'].isin([28, 38, 52])]\n",
        "mydata.loc[~mydata['midterm'].isin([28, 38, 52])]"
      ],
      "id": "4856606c",
      "execution_count": null,
      "outputs": []
    },
    {
      "cell_type": "markdown",
      "metadata": {},
      "source": [
        "### 완전한 표본 체크하기"
      ],
      "id": "12fb1ad8"
    },
    {
      "cell_type": "code",
      "metadata": {},
      "source": [
        "# 데이터에 빈칸이 뜷려있는 경우\n",
        "mydata.iloc[3, 2] = np.nan\n",
        "mydata.iloc[10, 3] = np.nan\n",
        "mydata.iloc[13, 1] = np.nan\n",
        "\n",
        "mydata[\"gender\"].isna()\n",
        "\n",
        "mydata.loc[mydata[\"gender\"].isna()]\n",
        "mydata.loc[~mydata[\"gender\"].isna()]\n",
        "\n",
        "mydata.dropna()"
      ],
      "id": "c6ca2f27",
      "execution_count": null,
      "outputs": []
    },
    {
      "cell_type": "code",
      "metadata": {},
      "source": [
        "# Q. mydata에서 중간고사와 기말고사가 \n",
        "# 다 채워진 행들을 가져오세요.\n",
        "\n",
        "con1 = ~mydata[\"midterm\"].isna() # 중간고사 채워진 애들\n",
        "con2 = ~mydata[\"final\"].isna() # 기말고사 채워진 애들"
      ],
      "id": "8f7e885e",
      "execution_count": null,
      "outputs": []
    },
    {
      "cell_type": "markdown",
      "metadata": {},
      "source": [
        "### 구성원소 추가/삭제/변경"
      ],
      "id": "26d61d5d"
    },
    {
      "cell_type": "code",
      "metadata": {},
      "source": [
        "# mydata에 final 열을 추가가\n",
        "mydata['total'] = mydata['midterm'] + mydata['final']\n",
        "mydata\n",
        "\n",
        "mydata[\"midterm\"].isna()\n",
        "# midterm 열에 빈칸을 50으로 채워줌\n",
        "mydata[\"midterm\"].loc[mydata[\"midterm\"].isna()] = 50 \n",
        "\n",
        "mydata[\"midterm\"].isna().sum() # 빈칸이 몇개 있는지 체크!\n",
        "mydata[\"final\"].isna().sum() # 빈칸이 몇개 있는지 체크!\n",
        "# final 열에 빈칸을 30으로 채워줌. \n",
        "mydata[\"final\"].loc[mydata[\"final\"].isna()] = 30"
      ],
      "id": "a068afea",
      "execution_count": null,
      "outputs": []
    },
    {
      "cell_type": "markdown",
      "metadata": {},
      "source": [
        "#### 변경 및 추가 "
      ],
      "id": "19f71d75"
    },
    {
      "cell_type": "code",
      "metadata": {},
      "source": [
        "(mydata['total'] / 2).rename('average')\n",
        "mydata = pd.concat([mydata, (mydata['total'] /2).rename('average')], axis = 1)\n",
        "\n",
        "# 열 삭제\n",
        "del mydata[\"gender\"]\n",
        "\n",
        "mydata.columns"
      ],
      "id": "12e6c0a0",
      "execution_count": null,
      "outputs": []
    },
    {
      "cell_type": "markdown",
      "metadata": {},
      "source": [
        "#### pd.concat() 함수\n",
        "프레임이나 시리즈를 연결하는데 사용"
      ],
      "id": "af7409c9"
    },
    {
      "cell_type": "code",
      "metadata": {},
      "source": [
        "#  에제1 : 두개 데이터 프레임 연결하기(axis=0-행방향)\n",
        "import pandas as pd\n",
        "df1 = pd.DataFrame({\n",
        "'A': ['A0', 'A1', 'A2'],\n",
        "'B': ['B0', 'B1', 'B2']\n",
        "})\n",
        "df2 = pd.DataFrame({\n",
        "'A': ['A3', 'A4', 'A5'],\n",
        "'B': ['B3', 'B4', 'B5']\n",
        "})\n",
        "result = pd.concat([df1, df2])"
      ],
      "id": "9866266b",
      "execution_count": null,
      "outputs": []
    },
    {
      "cell_type": "code",
      "metadata": {},
      "source": [
        "#  에제2 : 열방향으로 연결\n",
        "df3 = pd.DataFrame({\n",
        "'C': ['C0', 'C1', 'C2'],\n",
        "'D': ['D0', 'D1', 'D2']\n",
        "})\n",
        "\n",
        "# axis = 1 옵션으로 인해 열 방향으로 합쳐졌다.\n",
        "result = pd.concat([df1, df3], axis=1)"
      ],
      "id": "b6b5f12f",
      "execution_count": null,
      "outputs": []
    },
    {
      "cell_type": "code",
      "metadata": {},
      "source": [
        "# 에제3 : ignore_index 옵션 사용\n",
        "\n",
        "# ignore_index = True 옵션으로 인해 행 번호 중복 출력 x\n",
        "pd.concat([df1, df2], ignore_index = True)"
      ],
      "id": "9278eb87",
      "execution_count": null,
      "outputs": []
    },
    {
      "cell_type": "code",
      "metadata": {},
      "source": [
        "# 예제4: join 옵션 사용\n",
        "df4 = pd.DataFrame({\n",
        "'A': ['A2', 'A3', 'A4'],\n",
        "'B': ['B2', 'B3', 'B4'],\n",
        "'C': ['C2', 'C3', 'C4']\n",
        "})\n",
        "\n",
        "# join = 'inner' 는 공통 열만 포함하는 결합\n",
        "result = pd.concat([df1, df4], join='inner')\n",
        "\n",
        "# join = 'outer'는 모든 열을 포함하는 외부 결합;\n",
        "# 하나의 데이터 프레임에만 존재하는 열은 NaN\n",
        "result = pd.concat([df1, df4], join='outer')"
      ],
      "id": "a1eec71d",
      "execution_count": null,
      "outputs": []
    },
    {
      "cell_type": "code",
      "metadata": {},
      "source": [
        "# 예제 5: keys 옵션 사용\n",
        "\n",
        "# keys 옵션 사용시 연결된 데이터 프레임의 원본 출처를 \n",
        "# 식별하는 멀티인덱스 생성\n",
        "df_wkey = pd.concat([df1, df2], keys=['key1', 'key2'])\n",
        "df_wkey.loc['key2']"
      ],
      "id": "fa5da5fb",
      "execution_count": null,
      "outputs": []
    },
    {
      "cell_type": "markdown",
      "metadata": {},
      "source": [
        "### 판다스 데이터 프레임에서 이용가능한 메서드\n",
        "head() - 데이터 프레임의 처음 몇개 행을 반환  "
      ],
      "id": "6643a8a2"
    },
    {
      "cell_type": "code",
      "metadata": {},
      "source": [
        "import pandas as pd\n",
        "from palmerpenguins import load_penguins\n",
        "df = load_penguins()\n",
        "df.head()"
      ],
      "id": "5e9e0f10",
      "execution_count": null,
      "outputs": []
    },
    {
      "cell_type": "markdown",
      "metadata": {},
      "source": [
        "tail() - 데이터 프레임의 마지막 몇개의 행을 반환  "
      ],
      "id": "d46bb7bf"
    },
    {
      "cell_type": "code",
      "metadata": {},
      "source": [
        "df.tail()"
      ],
      "id": "dee2d9e1",
      "execution_count": null,
      "outputs": []
    },
    {
      "cell_type": "markdown",
      "metadata": {},
      "source": [
        "describe() - 데이터 프레임의 요약 통계를 반환"
      ],
      "id": "1b3c5088"
    },
    {
      "cell_type": "code",
      "metadata": {},
      "source": [
        "df.describe()"
      ],
      "id": "6387457d",
      "execution_count": null,
      "outputs": []
    },
    {
      "cell_type": "markdown",
      "metadata": {},
      "source": [
        "info() - 데이터 프레임의 정보(컬럼,타입 등)"
      ],
      "id": "047d118f"
    },
    {
      "cell_type": "code",
      "metadata": {},
      "source": [
        "df.info()"
      ],
      "id": "765b1d96",
      "execution_count": null,
      "outputs": []
    },
    {
      "cell_type": "markdown",
      "metadata": {},
      "source": [
        "sort_values() - 특정 열을 기준으로 데이터 프레임 정렬"
      ],
      "id": "e3ad5771"
    },
    {
      "cell_type": "code",
      "metadata": {},
      "source": [
        "# 내림차순 정렬: ascending =False\n",
        "# 'bill_length_mm' 열을 기준으로 데이터 프레임 정렬 - 오름차순\n",
        "sorted_df = df.sort_values(by='bill_length_mm', ascending=False)\n",
        "sorted_df.head()\n",
        "\n",
        "# 'bill_length_mm'를 내림차순으로, 'bill_depth_mm'를 오름차순으로 정렬\n",
        "sorted_df = df.sort_values(\n",
        "by=['bill_length_mm', 'bill_depth_mm'],\n",
        "ascending=[False, True]\n",
        ")\n",
        "sorted_df.head()"
      ],
      "id": "f51a2ada",
      "execution_count": null,
      "outputs": []
    },
    {
      "cell_type": "markdown",
      "metadata": {},
      "source": [
        "idmax() & idxmin() - 각 데이터프레임이나 시리즈에서 최대값.최소값을 가지는 첫 인덱스 반환"
      ],
      "id": "06609db8"
    },
    {
      "cell_type": "code",
      "metadata": {},
      "source": [
        "# 'bill_length_mm' 열에서 최대값을 가지는 행의 인덱스 반환\n",
        "max_idx = df['bill_length_mm'].idxmax()\n",
        "max_idx\n",
        "\n",
        "# loc 매서드는 해당 인덱스에 위치한 행의 데이터를 출력\n",
        "df.loc[max_idx]"
      ],
      "id": "8faee8dc",
      "execution_count": null,
      "outputs": []
    },
    {
      "cell_type": "code",
      "metadata": {},
      "source": [
        "# 'bill_length_mm' 열에서 최소값을 가지는 행의 인덱스 반환\n",
        "min_idx = df['bill_length_mm'].idxmin()\n",
        "min_idx\n",
        "\n",
        "# loc 매서드는 해당 인덱스에 위치한 행의 데이터를 출력\n",
        "df.loc[min_idx]"
      ],
      "id": "40516065",
      "execution_count": null,
      "outputs": []
    },
    {
      "cell_type": "markdown",
      "metadata": {},
      "source": [
        "groupby() - 특정 열을 기준으로 데이터 프레임 그룹화"
      ],
      "id": "a2ebe7dc"
    },
    {
      "cell_type": "code",
      "metadata": {},
      "source": [
        "# 'species' 열을 기준으로 그룹화하여 평균 계산\n",
        "grouped_df = df.groupby('species').mean(numeric_only = True)\n",
        "grouped_df"
      ],
      "id": "82128e5b",
      "execution_count": null,
      "outputs": []
    },
    {
      "cell_type": "markdown",
      "metadata": {},
      "source": [
        "mean() - 데이터 프레임의 평균 계산"
      ],
      "id": "f827ffc6"
    },
    {
      "cell_type": "code",
      "metadata": {},
      "source": [
        "# 데이터 프레임의 각 열의 평균 계산\n",
        "print(df.mean(numeric_only = True))"
      ],
      "id": "9dc9a56c",
      "execution_count": null,
      "outputs": []
    },
    {
      "cell_type": "code",
      "metadata": {},
      "source": [
        "# 'species' 열을 기준으로 그룹화하여 평균 계산\n",
        "grouped_df = df.groupby('species').mean(numeric_only = True)\n",
        "print(grouped_df)\n",
        "\n",
        "df.groupby('island').mean(numeric_only=True)"
      ],
      "id": "85223d69",
      "execution_count": null,
      "outputs": []
    },
    {
      "cell_type": "markdown",
      "metadata": {},
      "source": [
        "sum() - 데이터 프레임의 합계 계산"
      ],
      "id": "8c51acb6"
    },
    {
      "cell_type": "code",
      "metadata": {},
      "source": [
        "# 데이터 프레임의 각 열의 합계 계산\n",
        "print(df.sum(numeric_only = True))"
      ],
      "id": "866bdd98",
      "execution_count": null,
      "outputs": []
    },
    {
      "cell_type": "code",
      "metadata": {},
      "source": [
        "# 최대 부리길이 60인 펭귄은 몇마리?\n",
        "sum(df['bill_length_mm'] == 60.0)"
      ],
      "id": "c6109d48",
      "execution_count": null,
      "outputs": []
    },
    {
      "cell_type": "markdown",
      "metadata": {},
      "source": [
        "### 연습문제\n",
        "연습1"
      ],
      "id": "333adf2e"
    },
    {
      "cell_type": "code",
      "metadata": {},
      "source": [
        "midterm= pd.DataFrame({'id' : [23, 10, 5, 1], 'midterm':[40, 30, 50,20]})\n",
        "final = pd.DataFrame({'id' : [23, 10, 5, 1], 'final':[45, 25, 50, 17]})\n",
        "\n",
        "pd.merge(midterm, final, on = 'id', how = 'outer')"
      ],
      "id": "b8cedd45",
      "execution_count": null,
      "outputs": []
    },
    {
      "cell_type": "markdown",
      "metadata": {},
      "source": [
        "연습2\n",
        "\n",
        "* 1 성별, 섬별 부리길이 평균계산"
      ],
      "id": "96545e94"
    },
    {
      "cell_type": "code",
      "metadata": {},
      "source": [
        "bill_length = df.groupby([\"sex\",\"island\"], as_index = False)['bill_length_mm'].mean(numeric_only=True)"
      ],
      "id": "d770efb7",
      "execution_count": null,
      "outputs": []
    },
    {
      "cell_type": "markdown",
      "metadata": {},
      "source": [
        "* 2. 성별, 섬별 부리깊이 평균계산"
      ],
      "id": "fbd62a96"
    },
    {
      "cell_type": "code",
      "metadata": {},
      "source": [
        "bill_depth = df.groupby(['sex','island'], as_index = False)['bill_depth_mm'].mean(numeric_only=True)"
      ],
      "id": "fe1f2d53",
      "execution_count": null,
      "outputs": []
    },
    {
      "cell_type": "markdown",
      "metadata": {},
      "source": [
        "* 3. 1.2 단계 데이터 프레임 병합해서 성별, 섬별, 부리길이,깊이 데이터 프레임 만들기"
      ],
      "id": "1170dded"
    },
    {
      "cell_type": "code",
      "metadata": {},
      "source": [
        "merged_df = pd.merge(bill_length, bill_depth, on=[\"sex\",\"island\"],how ='outer')\n",
        "# 오류 발생??\n",
        "# loc는 행 인덱스를 기준으로 접근하는 방법\n",
        "# merged_df.loc[\"female\"]\n",
        "merged_df[merged_df['sex'] == 'female']"
      ],
      "id": "7697fcff",
      "execution_count": null,
      "outputs": []
    },
    {
      "cell_type": "markdown",
      "metadata": {},
      "source": [
        "merge() - 두 데이터 프레임 병합"
      ],
      "id": "1608b41e"
    },
    {
      "cell_type": "code",
      "metadata": {},
      "source": [
        "# 예제 데이터 프레임 생성\n",
        "df1 = pd.DataFrame({'key': ['A', 'B', 'C'], 'value': [1, 2, 3]})\n",
        "df2 = pd.DataFrame({'key': ['A', 'B', 'D'], 'value': [4, 5, 6]})\n",
        "\n",
        "# 두 데이터 프레임 병합\n",
        "# on = 'key' 병합할때 기준이 되는 열 지정\n",
        "# how = 'inner'병합 방법지정; inner(교집합), outer(합집합)\n",
        "merged_df = pd.merge(df1, df2, on='key', how='inner') \n",
        "print(merged_df)\n",
        "\n",
        "# 두 데이터 프레임을 outer join으로 병합\n",
        "merged_df_outer = pd.merge(df1, df2, on='key', how='outer')\n",
        "print(merged_df_outer)"
      ],
      "id": "01ee35b3",
      "execution_count": null,
      "outputs": []
    },
    {
      "cell_type": "markdown",
      "metadata": {},
      "source": [
        "### 데이터 재구조화 - p69\n",
        "#### melt() 메서드\n",
        "데이터를 넓은 형식에서 긴형식으로 변환"
      ],
      "id": "8df9e25f"
    },
    {
      "cell_type": "code",
      "metadata": {},
      "source": [
        "data = {\n",
        "    'Date': ['2024-07-01', '2024-07-02', '2024-07-03'],\n",
        "    'Temperature': [10, 20, 25],\n",
        "    'Humidity': [60, 65, 70]\n",
        "}\n",
        "\n",
        "df = pd.DataFrame(data)\n",
        "\n",
        "df_melted = pd.melt(df,\n",
        "    id_vars=['Date'],\n",
        "    value_vars=['Temperature', 'Humidity'],\n",
        "    var_name='Variable',\n",
        "    value_name='Value'\n",
        "    )\n",
        "\n",
        "df_melted"
      ],
      "id": "70360bd7",
      "execution_count": null,
      "outputs": []
    },
    {
      "cell_type": "code",
      "metadata": {},
      "source": [
        "# 또 다른 예제\n",
        "data = {\n",
        "    'Country': ['Afghanistan', 'Brazil', 'China'],\n",
        "    '2024년': [745, 37737, 212258],\n",
        "    '2025년': [2666, 80488, 213766]\n",
        "}\n",
        "\n",
        "df_wide = pd.DataFrame(data)\n",
        "df_wide\n",
        "\n",
        "df_long = pd.melt(df_wide,\n",
        "    id_vars = ['Country'],\n",
        "    value_vars = ['2024년','2025년'],\n",
        "    var_name= 'Year',\n",
        "    value_name= 'cases'\n",
        "    )"
      ],
      "id": "6ef6e39e",
      "execution_count": null,
      "outputs": []
    },
    {
      "cell_type": "markdown",
      "metadata": {},
      "source": [
        "#### pivot() 메서드 \n",
        "데이터를 긴형식에서 넓은 형식으로 변환"
      ],
      "id": "2bbe4c7e"
    },
    {
      "cell_type": "code",
      "metadata": {},
      "source": [
        "df_pivoted = df_melted.pivot(\n",
        "    index='Date',\n",
        "    columns='Variable',\n",
        "    values='Value').reset_index()\n",
        "df_pivoted"
      ],
      "id": "bb551a0c",
      "execution_count": null,
      "outputs": []
    },
    {
      "cell_type": "code",
      "metadata": {},
      "source": [
        "# 연습데이터\n",
        "data = {\n",
        "    'Country': ['Afghanistan', 'Brazil', 'China'],\n",
        "    '2024년': [745, 37737, 212258],\n",
        "    '2025년': [2666, 80488, 213766]\n",
        "}\n",
        "\n",
        "df_wide = pd.DataFrame(data)\n",
        "df_wide\n",
        "\n",
        "df_long = pd.melt(df_wide,\n",
        "    id_vars = ['Country'],\n",
        "    value_vars = ['2024년','2025년'],\n",
        "    var_name= 'Year',\n",
        "    value_name= 'cases'\n",
        "    )\n",
        "\n",
        "# pivot 사용해서 wide 형식으로 바꾸려면?\n",
        "df_wide2 = df_long.pivot(\n",
        "    index='Country',\n",
        "    columns='Year',\n",
        "    values='cases').reset_index()\n",
        "\n",
        "df_wide2.shape\n",
        "\n",
        "df_wide2.iloc[0,0]\n",
        "df_wide2.columns.name = None  # 불필요한 인덱스 이름제거\n",
        "df_wide2"
      ],
      "id": "94e389f4",
      "execution_count": null,
      "outputs": []
    },
    {
      "cell_type": "markdown",
      "metadata": {},
      "source": [
        "깔끔한 데이터 조건  \n",
        "1. 각 칼럼이 하나의 변수를 의미한다.  \n",
        "2. 각 행이 하나의 관측치를 나타낸다.  \n",
        "3. 각 칸에 하나의 값이 들어있다. \n"
      ],
      "id": "f429a5ac"
    },
    {
      "cell_type": "code",
      "metadata": {},
      "source": [
        "df = pd.DataFrame({\n",
        "    'School' : ['A','A', 'B', 'B','C', 'C'],\n",
        "    'Gender' : [\"M\", 'F', \"M\", 'F', 'M', 'F'],\n",
        "    'City' : ['North', 'South', 'North', 'South', 'North', 'South'],\n",
        "    'Midterm' : [ 10, 20, 30, 40, 50, 60],\n",
        "    'Final' : [5, 15, 25, 35, 45, 55]\n",
        "})\n",
        "\n",
        "df"
      ],
      "id": "074575f4",
      "execution_count": null,
      "outputs": []
    },
    {
      "cell_type": "code",
      "metadata": {},
      "source": [
        "# 학교별 중간고사 평균\n",
        "df.pivot_table(\n",
        "    index='School',\n",
        "    values=['Midterm', 'Final'],\n",
        "    aggfunc = 'mean').reset_index()\n",
        "\n",
        "# 학교별 중간고사,기말고사 평균\n",
        "df.pivot_table(\n",
        "    index='School',\n",
        "    columns='City',\n",
        "    values=['Midterm', 'Final'],\n",
        "    aggfunc = 'mean').reset_index()"
      ],
      "id": "29de5b8a",
      "execution_count": null,
      "outputs": []
    },
    {
      "cell_type": "code",
      "metadata": {},
      "source": [
        "# column 옵션에 의미\n",
        "df.pivot_table(\n",
        "    index='School',\n",
        "    columns='City',\n",
        "    values=['Midterm', 'Final'],\n",
        "    aggfunc = 'mean').reset_index()\n",
        "\n",
        "# 인덱스가 여러개\n",
        "df.pivot_table(\n",
        "    index=['School', 'Gender'],\n",
        "    values='Midterm',\n",
        "    aggfunc = 'mean').reset_index()"
      ],
      "id": "f27caed6",
      "execution_count": null,
      "outputs": []
    },
    {
      "cell_type": "code",
      "metadata": {},
      "source": [
        "# aggfunc의 사용\n",
        "# 나만의 함수 \n",
        "# 벡터 원소들을 더 한 수의 제곱을 하는 함수 my_f\n",
        "\n",
        "def my_f(input):\n",
        "    return sum(input)**2\n",
        "\n",
        "df.pivot_table(\n",
        "    index='School',\n",
        "    values='Midterm',\n",
        "    aggfunc = my_f).reset_index()"
      ],
      "id": "0d879ad7",
      "execution_count": null,
      "outputs": []
    },
    {
      "cell_type": "markdown",
      "metadata": {},
      "source": [
        "### 실습 팔머펭귄 데이터 분석 - Pivot table"
      ],
      "id": "feee0b49"
    },
    {
      "cell_type": "code",
      "metadata": {},
      "source": [
        "import pandas as pd\n",
        "from palmerpenguins import load_penguins\n",
        "penguins = load_penguins()"
      ],
      "id": "c4209657",
      "execution_count": null,
      "outputs": []
    },
    {
      "cell_type": "markdown",
      "metadata": {},
      "source": [
        "문제1. 펭귄 종별 평균 부리 길이 구하기"
      ],
      "id": "3d9f692a"
    },
    {
      "cell_type": "code",
      "metadata": {},
      "source": [
        "penguins.pivot_table(\n",
        "    index='species',\n",
        "    values= 'bill_length_mm',\n",
        "    aggfunc = 'mean').reset_index()"
      ],
      "id": "f6dfe280",
      "execution_count": null,
      "outputs": []
    },
    {
      "cell_type": "markdown",
      "metadata": {},
      "source": [
        "문제2: 섬별 몸무게 중앙값 구하기"
      ],
      "id": "d7209727"
    },
    {
      "cell_type": "code",
      "metadata": {},
      "source": [
        "penguins.pivot_table(\n",
        "    index='island',\n",
        "    values= 'body_mass_g',\n",
        "    aggfunc = 'median').reset_index()"
      ],
      "id": "c4449970",
      "execution_count": null,
      "outputs": []
    },
    {
      "cell_type": "markdown",
      "metadata": {},
      "source": [
        "문제3: 성별에 따른 부리길이와 몸무게 평균 구하기"
      ],
      "id": "ba46ee94"
    },
    {
      "cell_type": "code",
      "metadata": {},
      "source": [
        "penguins.pivot_table(\n",
        "    index=['sex','species'],\n",
        "    values= ['bill_length_mm','body_mass_g'],\n",
        "    aggfunc = 'mean').reset_index()"
      ],
      "id": "f6d8dfe2",
      "execution_count": null,
      "outputs": []
    },
    {
      "cell_type": "markdown",
      "metadata": {},
      "source": [
        "문제4: 종과 섬에 따른 평균 지느러미 길이 구하기"
      ],
      "id": "d0742885"
    },
    {
      "cell_type": "code",
      "metadata": {},
      "source": [
        "penguins.pivot_table(\n",
        "    index=['species','island'],\n",
        "    values= ['flipper_length_mm'],\n",
        "    aggfunc = 'mean').reset_index()"
      ],
      "id": "72eb4f38",
      "execution_count": null,
      "outputs": []
    },
    {
      "cell_type": "markdown",
      "metadata": {},
      "source": [
        "문제 5: 종과 성별에 따른 부리 깊이 합계 구하기"
      ],
      "id": "7579c093"
    },
    {
      "cell_type": "code",
      "metadata": {},
      "source": [
        "penguins.pivot_table(\n",
        "    index=['species','sex'],\n",
        "    values= 'bill_depth_mm',\n",
        "    aggfunc = 'sum').reset_index()"
      ],
      "id": "2baff479",
      "execution_count": null,
      "outputs": []
    },
    {
      "cell_type": "markdown",
      "metadata": {},
      "source": [
        "문제6: 종별 몸무게의 변동 범위 구하기"
      ],
      "id": "7dcb76ac"
    },
    {
      "cell_type": "code",
      "metadata": {},
      "source": [
        "def my_f(input):\n",
        "    return input.max() - input.min()\n",
        "\n",
        "penguins.pivot_table(\n",
        "    index='species',\n",
        "    values= 'body_mass_g',\n",
        "    aggfunc = my_f).reset_index()"
      ],
      "id": "dc0dfa82",
      "execution_count": null,
      "outputs": []
    },
    {
      "cell_type": "markdown",
      "metadata": {},
      "source": [
        "### 학생 성적 불러오기"
      ],
      "id": "7250b2d8"
    },
    {
      "cell_type": "code",
      "metadata": {},
      "source": [
        "df = df = pd.read_csv('c:\\\\Users\\\\USER\\\\Documents\\\\lsbigdata-gen4\\\\data\\\\dat.csv')\n",
        "\n",
        "df.head()\n",
        "df.info()\n",
        "\n",
        "set(df[\"grade\"])\n",
        "\n",
        "# 여러 칼럼 선택\n",
        "df.loc[:, ['school', 'sex', 'paid', 'goout']]"
      ],
      "id": "8e66e5a6",
      "execution_count": null,
      "outputs": []
    },
    {
      "cell_type": "markdown",
      "metadata": {},
      "source": [
        "### 칼럼 데이터 타입 변경\n",
        "최빈값으로 대체?\n",
        "기존 데이터 형태의 정수값으로 대체 가능(장점)\n",
        "전체 변수의 평균값이 변경 될 수 있음(단점)\n",
        "\n",
        "평균값으로 대체?\n",
        "전체 변수의 평균값이 그대로 유지(장점)\n",
        "데이터 극단값이 존재할 경우 영향을 받을 가능성(단점)\n",
        "평균값 소수점으로 나올 수 있음(단점)\n",
        "\n",
        "\n",
        "#### 여러 메서드\n",
        "rename() 메서드 \n",
        "특정 칼럼 이름 변경"
      ],
      "id": "ce37aa86"
    },
    {
      "cell_type": "code",
      "metadata": {},
      "source": [
        "df.rename(columns = {'Dalc' : 'dalc', 'Walc' : 'walc'})"
      ],
      "id": "1b839084",
      "execution_count": null,
      "outputs": []
    },
    {
      "cell_type": "markdown",
      "metadata": {},
      "source": [
        "astype() 메서드\n",
        "데이터 프레임 또는 시리즈의 데이터 타입을 변경하는데 사용"
      ],
      "id": "e18dafa1"
    },
    {
      "cell_type": "code",
      "metadata": {},
      "source": [
        "# 최빈값 대체코드\n",
        "mode_val = df.loc[:, ['goout']].mode()\n",
        "df['goout'].isna()\n",
        "\n",
        "df.loc[df['goout'].isna(), \"goout\"] = 3.0\n",
        "df[\"goout\"] = df.loc[:, ['goout']].astype({'goout' : 'int64'})\n",
        "df"
      ],
      "id": "47735d38",
      "execution_count": null,
      "outputs": []
    },
    {
      "cell_type": "markdown",
      "metadata": {},
      "source": [
        "assign() 메서드\n",
        "새로운 칼럼을 생성하거나 특정 칼러 값을 변경 하는데 사용"
      ],
      "id": "db9106aa"
    },
    {
      "cell_type": "code",
      "metadata": {},
      "source": [
        "def classify_famrel(famrel):\n",
        "     if famrel <= 2:\n",
        "        return 'Low'\n",
        "     elif famrel <= 4:\n",
        "         return 'Medium'\n",
        "     else:\n",
        "         return 'High'\n",
        "\n",
        "# famrel_quality 칼럼 생성       \n",
        "df = df.assign(famrel_quality=df['famrel'].apply(classify_famrel))\n",
        "df"
      ],
      "id": "df505d8f",
      "execution_count": null,
      "outputs": []
    },
    {
      "cell_type": "markdown",
      "metadata": {},
      "source": [
        "select_dtypes() 메서드\n",
        "데이터프레임에서 특정 데이터 타입을 가진 칼럼만 선택하는데 사용되는 메서드"
      ],
      "id": "a92d0e87"
    },
    {
      "cell_type": "code",
      "metadata": {},
      "source": [
        "df.select_dtypes('number')\n",
        "df.select_dtypes('object')\n",
        "\n",
        "\n",
        "def standardize(x):\n",
        "     return (x - np.nanmean(x)/np.std(x))\n",
        "\n",
        "df.select_dtypes('number').apply(standardize, axis = 0)"
      ],
      "id": "98ad0bcb",
      "execution_count": null,
      "outputs": []
    }
  ],
  "metadata": {
    "kernelspec": {
      "display_name": "Python 3",
      "language": "python",
      "name": "python3"
    }
  },
  "nbformat": 4,
  "nbformat_minor": 5
}