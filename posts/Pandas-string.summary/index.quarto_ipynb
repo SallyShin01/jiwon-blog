{
  "cells": [
    {
      "cell_type": "markdown",
      "metadata": {},
      "source": [
        "---\n",
        "title: \"Pandas string 개념정리\"\n",
        "date : \"2025-03-11\"\n",
        "author: \"Jiwon Shin\"\n",
        "categories: [news, code]\n",
        "image: \"Pandas-logo.webp\"\n",
        "---\n",
        "\n",
        "\n",
        "## 날짜 및 문자형 변수 다루기\n",
        "\n",
        "### 날짜와 시간 다루기"
      ],
      "id": "6cf0a930"
    },
    {
      "cell_type": "code",
      "metadata": {},
      "source": [
        "# 예제 데이터\n",
        "import numpy as np \n",
        "import pandas as pd  \n",
        "import warnings \n",
        "warnings.filterwarnings(\"ignore\", category=pd.errors.SettingWithCopyWarning)\n",
        "\n",
        "data = {\n",
        "    'date': ['2024-01-01 12:34:56', '2024-02-01 23:45:01', '2024-03-01 06:07:08'],\n",
        "    'value': [100, 201, 302]\n",
        "}\n",
        "df = pd.DataFrame(data)\n",
        "df.info()"
      ],
      "id": "9c0a0609",
      "execution_count": null,
      "outputs": []
    },
    {
      "cell_type": "markdown",
      "metadata": {},
      "source": [
        "#### 날짜 형식으로 변환"
      ],
      "id": "c05ecc5d"
    },
    {
      "cell_type": "code",
      "metadata": {},
      "source": [
        "# 문자열을 날짜 형식으로 변환\n",
        "# to_datetime() 활용하여 날짜 형식 변환\n",
        "df['date'] = pd.to_datetime(df['date'])\n",
        "print(df.dtypes)"
      ],
      "id": "c4a6dbc0",
      "execution_count": null,
      "outputs": []
    },
    {
      "cell_type": "markdown",
      "metadata": {},
      "source": [
        "#### 날짜 형식 변환시 주의사항"
      ],
      "id": "ae582c6d"
    },
    {
      "cell_type": "code",
      "metadata": {},
      "source": [
        "# 올바른 형식\n",
        "pd.to_datetime('03-11-2025')\n",
        "pd.to_datetime('2025-03-11')\n",
        "pd.to_datetime('2025/03/11')\n",
        "pd.to_datetime('03/11/2025')\n",
        "\n",
        "# pd.to_datetime('11/2024/03') 입력형식이 맞지 않음\n",
        "pd.to_datetime('11-2025-03', format='%d-%Y-%m')\n",
        "pd.to_datetime('11-25-03', format='%d-%y-%m')"
      ],
      "id": "4afa943e",
      "execution_count": null,
      "outputs": []
    },
    {
      "cell_type": "markdown",
      "metadata": {},
      "source": [
        "#### 날짜 정보 추출"
      ],
      "id": "c469a4bc"
    },
    {
      "cell_type": "code",
      "metadata": {},
      "source": [
        "dt_obj = pd.to_datetime('2025년 03월 11일',\n",
        "                        format='%Y년 %m월 %d일')\n",
        "dt_obj.year\n",
        "dt_obj.month\n",
        "dt_obj.day\n",
        "dt_obj.day_name()\n",
        "dt_obj.weekday()"
      ],
      "id": "d6c403d0",
      "execution_count": null,
      "outputs": []
    }
  ],
  "metadata": {
    "kernelspec": {
      "display_name": "Python 3",
      "language": "python",
      "name": "python3"
    }
  },
  "nbformat": 4,
  "nbformat_minor": 5
}